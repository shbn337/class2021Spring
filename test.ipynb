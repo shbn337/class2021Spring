{
  "nbformat": 4,
  "nbformat_minor": 0,
  "metadata": {
    "colab": {
      "name": "test.ipynb",
      "provenance": [],
      "authorship_tag": "ABX9TyPsKf9U/cIQf2HFB/SXCPr4",
      "include_colab_link": true
    },
    "kernelspec": {
      "name": "python3",
      "display_name": "Python 3"
    }
  },
  "cells": [
    {
      "cell_type": "markdown",
      "metadata": {
        "id": "view-in-github",
        "colab_type": "text"
      },
      "source": [
        "<a href=\"https://colab.research.google.com/github/shbn337/class2021Spring/blob/main/test.ipynb\" target=\"_parent\"><img src=\"https://colab.research.google.com/assets/colab-badge.svg\" alt=\"Open In Colab\"/></a>"
      ]
    },
    {
      "cell_type": "code",
      "metadata": {
        "colab": {
          "base_uri": "https://localhost:8080/",
          "height": 0
        },
        "id": "jhq7Bu0dVvAF",
        "outputId": "dbc38076-74d8-4f0a-916f-9cfceb5c5860"
      },
      "source": [
        "a = 1\r\n",
        "b = 1\r\n",
        "c = a + b\r\n",
        "c"
      ],
      "execution_count": 4,
      "outputs": [
        {
          "output_type": "execute_result",
          "data": {
            "text/plain": [
              "2"
            ]
          },
          "metadata": {
            "tags": []
          },
          "execution_count": 4
        }
      ]
    },
    {
      "cell_type": "markdown",
      "metadata": {
        "id": "tgqzF0eoWB5E"
      },
      "source": [
        "## 우리는 파이썬을 배우게 됩니다."
      ]
    },
    {
      "cell_type": "markdown",
      "metadata": {
        "id": "MQC9X5vfWJM0"
      },
      "source": [
        "# 파이썬을 어디서 배우나요?\r\n",
        "### jump to python"
      ]
    },
    {
      "cell_type": "code",
      "metadata": {
        "id": "ECyyYM9vWW6O"
      },
      "source": [
        ""
      ],
      "execution_count": null,
      "outputs": []
    }
  ]
}