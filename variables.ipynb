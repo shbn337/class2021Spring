{
  "nbformat": 4,
  "nbformat_minor": 0,
  "metadata": {
    "colab": {
      "name": "variables.ipynb",
      "provenance": [],
      "authorship_tag": "ABX9TyNvjekVIP5xC8p5l/iaNzfQ",
      "include_colab_link": true
    },
    "kernelspec": {
      "name": "python3",
      "display_name": "Python 3"
    }
  },
  "cells": [
    {
      "cell_type": "markdown",
      "metadata": {
        "id": "view-in-github",
        "colab_type": "text"
      },
      "source": [
        "<a href=\"https://colab.research.google.com/github/shbn337/class2021Spring/blob/main/variables.ipynb\" target=\"_parent\"><img src=\"https://colab.research.google.com/assets/colab-badge.svg\" alt=\"Open In Colab\"/></a>"
      ]
    },
    {
      "cell_type": "code",
      "metadata": {
        "colab": {
          "base_uri": "https://localhost:8080/"
        },
        "id": "9gPu6GCuhvAS",
        "outputId": "85f5ad87-f4ea-4a51-ecd3-e69a7e0e63e0"
      },
      "source": [
        "a = 3; print(type(a))"
      ],
      "execution_count": 1,
      "outputs": [
        {
          "output_type": "stream",
          "text": [
            "<class 'int'>\n"
          ],
          "name": "stdout"
        }
      ]
    },
    {
      "cell_type": "markdown",
      "metadata": {
        "id": "z-qA6DyGO-lS"
      },
      "source": [
        "줄을 바꿔도 되지만 세미콜론으로 한 줄로 써도 됨"
      ]
    },
    {
      "cell_type": "code",
      "metadata": {
        "colab": {
          "base_uri": "https://localhost:8080/"
        },
        "id": "btwW8gqriE8D",
        "outputId": "ff4034ad-9459-4a56-af29-65811ec650b3"
      },
      "source": [
        "a = 2; a = float(a); print(type(a))"
      ],
      "execution_count": 2,
      "outputs": [
        {
          "output_type": "stream",
          "text": [
            "<class 'float'>\n"
          ],
          "name": "stdout"
        }
      ]
    },
    {
      "cell_type": "code",
      "metadata": {
        "colab": {
          "base_uri": "https://localhost:8080/"
        },
        "id": "rn7qveXXiJNz",
        "outputId": "56a45235-a9e8-4b1d-a7f1-9b42be30138b"
      },
      "source": [
        "a = 4.6; a = int(a); print(type(a))"
      ],
      "execution_count": 3,
      "outputs": [
        {
          "output_type": "stream",
          "text": [
            "<class 'int'>\n"
          ],
          "name": "stdout"
        }
      ]
    },
    {
      "cell_type": "markdown",
      "metadata": {
        "id": "4M6yBN2ROFif"
      },
      "source": [
        "#반올림함"
      ]
    },
    {
      "cell_type": "code",
      "metadata": {
        "colab": {
          "base_uri": "https://localhost:8080/"
        },
        "id": "RtZ8nS6AiJXl",
        "outputId": "901d7a34-829e-4525-8d54-bae308a5bab4"
      },
      "source": [
        "a = '456'; print(type(a)); print(a[1])"
      ],
      "execution_count": null,
      "outputs": [
        {
          "output_type": "stream",
          "text": [
            "<class 'str'>\n",
            "2\n"
          ],
          "name": "stdout"
        }
      ]
    },
    {
      "cell_type": "markdown",
      "metadata": {
        "id": "5p0FIFQ8Oo_a"
      },
      "source": [
        "[ ]는 인덱스의 번호를 나타냄.\r\n",
        "첫 글자는 '0'번째임. 0, 1, 2, 3 ... 이렇게 나감"
      ]
    },
    {
      "cell_type": "code",
      "metadata": {
        "colab": {
          "base_uri": "https://localhost:8080/"
        },
        "id": "8Tq2EF5-iJhK",
        "outputId": "6e60306d-90c1-4294-e6a9-c1986398d839"
      },
      "source": [
        "a = '456'; a = list(a); print(type(a)); print(a); print(a[2])"
      ],
      "execution_count": 4,
      "outputs": [
        {
          "output_type": "stream",
          "text": [
            "<class 'list'>\n",
            "['4', '5', '6']\n",
            "6\n"
          ],
          "name": "stdout"
        }
      ]
    },
    {
      "cell_type": "code",
      "metadata": {
        "colab": {
          "base_uri": "https://localhost:8080/"
        },
        "id": "N-1V-fnZiJqd",
        "outputId": "3fe6773a-df44-43cf-ad8c-265b8ed3e769"
      },
      "source": [
        "a = [4,'5', [6, '7']]; print(type(a)); print(a[0]); print(a[1]); print(a[2])"
      ],
      "execution_count": 5,
      "outputs": [
        {
          "output_type": "stream",
          "text": [
            "<class 'list'>\n",
            "4\n",
            "5\n",
            "[6, '7']\n"
          ],
          "name": "stdout"
        }
      ]
    },
    {
      "cell_type": "code",
      "metadata": {
        "colab": {
          "base_uri": "https://localhost:8080/"
        },
        "id": "HIdybfEpiJzR",
        "outputId": "c527b8f8-b473-4413-bc38-ce2464c4837c"
      },
      "source": [
        "a = (4,'5', [6, '7']); print(type(a)); print(a[0]); print(a[1]); print(a[2])"
      ],
      "execution_count": 6,
      "outputs": [
        {
          "output_type": "stream",
          "text": [
            "<class 'tuple'>\n",
            "4\n",
            "5\n",
            "[6, '7']\n"
          ],
          "name": "stdout"
        }
      ]
    },
    {
      "cell_type": "markdown",
      "metadata": {
        "id": "NSETYPmNPawJ"
      },
      "source": [
        "튜플은 리스트에 비해 수정이 어려움. 개발과정에서 실수로 코드를 변경하거나 삭제하는 것을 방지하기 위한 용도로 사용 가능"
      ]
    },
    {
      "cell_type": "code",
      "metadata": {
        "colab": {
          "base_uri": "https://localhost:8080/"
        },
        "id": "DVEgshWJiJ7d",
        "outputId": "69df5527-9741-4035-b195-e5a0d23d93e7"
      },
      "source": [
        "a =\t{\"a\": \"eye\", \"b\": \"nose\", \"c\": 2021}\r\n",
        "print(type(a))\r\n",
        "print(a[\"a\"])"
      ],
      "execution_count": 7,
      "outputs": [
        {
          "output_type": "stream",
          "text": [
            "<class 'dict'>\n",
            "eye\n"
          ],
          "name": "stdout"
        }
      ]
    },
    {
      "cell_type": "markdown",
      "metadata": {
        "id": "mkxA5hXgQcKG"
      },
      "source": [
        "싱글 코테이션 마크도 가능함"
      ]
    },
    {
      "cell_type": "code",
      "metadata": {
        "colab": {
          "base_uri": "https://localhost:8080/"
        },
        "id": "ZHRRp7eeiKEM",
        "outputId": "be9ccac9-b5d7-4486-a533-09d2f3ddd61d"
      },
      "source": [
        "a=[(1,2,3), (4,9,1)]\r\n",
        "print(type(a))\r\n",
        "a"
      ],
      "execution_count": 8,
      "outputs": [
        {
          "output_type": "stream",
          "text": [
            "<class 'list'>\n"
          ],
          "name": "stdout"
        },
        {
          "output_type": "execute_result",
          "data": {
            "text/plain": [
              "[(1, 2, 3), (4, 9, 1)]"
            ]
          },
          "metadata": {
            "tags": []
          },
          "execution_count": 8
        }
      ]
    }
  ]
}